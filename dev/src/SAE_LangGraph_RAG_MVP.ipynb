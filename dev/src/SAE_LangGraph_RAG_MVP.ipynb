{
  "nbformat": 4,
  "nbformat_minor": 0,
  "metadata": {
    "colab": {
      "provenance": []
    },
    "kernelspec": {
      "name": "python3",
      "display_name": "Python 3"
    },
    "language_info": {
      "name": "python"
    }
  },
  "cells": [
    {
      "cell_type": "markdown",
      "source": [
        "# Colab Imports"
      ],
      "metadata": {
        "id": "YtVhicL1v7Pv"
      }
    },
    {
      "cell_type": "code",
      "execution_count": 87,
      "metadata": {
        "colab": {
          "base_uri": "https://localhost:8080/"
        },
        "id": "-47R_NtxvsP4",
        "outputId": "9900b407-b9c8-447c-f771-38484fcb7e5e"
      },
      "outputs": [
        {
          "output_type": "stream",
          "name": "stdout",
          "text": [
            "Drive already mounted at /content/drive; to attempt to forcibly remount, call drive.mount(\"/content/drive\", force_remount=True).\n"
          ]
        }
      ],
      "source": [
        "from google.colab import drive\n",
        "from google.colab import userdata\n",
        "drive.mount('/content/drive')"
      ]
    },
    {
      "cell_type": "markdown",
      "source": [
        "# Installation"
      ],
      "metadata": {
        "id": "G1RjnwfawFp2"
      }
    },
    {
      "cell_type": "code",
      "source": [
        "!pip -q install langgraph langchain_openai langchain_community tiktoken konlpy langchain-pinecone pinecone-notebooks"
      ],
      "metadata": {
        "id": "4c7bqFBc5D0A",
        "colab": {
          "base_uri": "https://localhost:8080/"
        },
        "outputId": "c7f719a3-43e1-4033-c352-e0504f6170ca"
      },
      "execution_count": 88,
      "outputs": [
        {
          "output_type": "stream",
          "name": "stdout",
          "text": [
            "\u001b[33mWARNING: pinecone 6.0.2 does not provide the extra 'async'\u001b[0m\u001b[33m\n",
            "\u001b[0m"
          ]
        }
      ]
    },
    {
      "cell_type": "markdown",
      "source": [
        "# Settings & Loadings"
      ],
      "metadata": {
        "id": "pFD3cE5ewHRS"
      }
    },
    {
      "cell_type": "code",
      "source": [
        "import os\n",
        "import json\n",
        "import pandas as pd\n",
        "\n",
        "os.environ['OPENAI_API_KEY'] = userdata.get('OPENAI_API_KEY')\n",
        "\n",
        "PROFECT_DIR = os.path.join(\"/content/drive/MyDrive\", \"Profect SAE\")\n",
        "CSVs = os.path.join(PROFECT_DIR, \"test_data/CSVs\")\n",
        "files = os.listdir(CSVs)\n",
        "csv_files = [\n",
        "    file for file in files\n",
        "      if file.endswith(\".csv\")\n",
        "]\n",
        "\n",
        "df_one = pd.read_csv(os.path.join(CSVs, csv_files[0]))\n",
        "print(df_one.iloc[0])"
      ],
      "metadata": {
        "colab": {
          "base_uri": "https://localhost:8080/"
        },
        "id": "mpqOfVczwgq0",
        "outputId": "04f3a89c-f5d1-48b3-d1ec-78f6ba798638"
      },
      "execution_count": 89,
      "outputs": [
        {
          "output_type": "stream",
          "name": "stdout",
          "text": [
            "title      [종합] 김태희, 해외서 권총 강도 당했다…'연매출 1100억' 정샘물 \"피해액 2...\n",
            "url        https://m.entertain.naver.com/article/312/0000...\n",
            "content    본문 바로가기 naver 엔터 뉴스 스포츠 사용자 링크 로그인 검색 홈 드라마 영화...\n",
            "Name: 0, dtype: object\n"
          ]
        }
      ]
    },
    {
      "cell_type": "markdown",
      "source": [
        "# Models, Schema & State\n",
        "- `gpt-4o-mini`\n",
        "- `text-embedding-3-large`"
      ],
      "metadata": {
        "id": "8JWhGHpTwKbA"
      }
    },
    {
      "cell_type": "code",
      "source": [
        "from langchain_openai import ChatOpenAI\n",
        "llm = ChatOpenAI(model_name=\"gpt-4o-mini\", temperature=0)"
      ],
      "metadata": {
        "id": "8X7BWTp2wgbG"
      },
      "execution_count": 90,
      "outputs": []
    },
    {
      "cell_type": "code",
      "source": [
        "from pydantic import BaseModel, Field\n",
        "from typing import Optional, List\n",
        "\n",
        "class RequestDto(BaseModel):\n",
        "  original_title: str = Field(..., min_length=1)\n",
        "  original_url: str = Field(..., min_length=5, max_length=2083)\n",
        "  original_content: str = Field(..., min_length=1)\n",
        "\n",
        "class ResponseDto(BaseModel):\n",
        "  korean_name: str\n",
        "  english_name: str\n",
        "  market: str\n",
        "  ticker_code: str\n",
        "\n",
        "class PreprocessingFlowState(BaseModel):\n",
        "  route: str\n",
        "  preprocessed_title: str\n",
        "  preprocessed_url: str\n",
        "  preprocessed_content: str\n",
        "\n",
        "class RAGFlowState(BaseModel):\n",
        "  route : str\n",
        "\n",
        "class FlowState(BaseModel):\n",
        "  request_dto: RequestDto\n",
        "  response_dto: List[ResponseDto]\n",
        "  preprocessing_flow_state: PreprocessingFlowState\n",
        "  rag_flow_state: RAGFlowState"
      ],
      "metadata": {
        "id": "0xCCAnfrK_f3"
      },
      "execution_count": 91,
      "outputs": []
    },
    {
      "cell_type": "markdown",
      "source": [
        "# Nodes"
      ],
      "metadata": {
        "id": "sQktvM4p_6Iv"
      }
    },
    {
      "cell_type": "markdown",
      "source": [
        "## Nodes & Tools for Preprocessing Flow\n",
        "- `text_cleaning`\n",
        "- `preprocessing_router_node`\n",
        "- `naver_news_preprocessing_node`\n",
        "- `naver_entertainment_preprocessing_node`\n",
        "- `naver_sports_preprocessing_node`\n",
        "- `youtube_preprocessing_node`"
      ],
      "metadata": {
        "id": "TXgPN53eFYEB"
      }
    },
    {
      "cell_type": "markdown",
      "source": [
        "### Tools\n",
        "- `text_cleaning`"
      ],
      "metadata": {
        "id": "frPpZJe4Dia8"
      }
    },
    {
      "cell_type": "code",
      "source": [
        "def text_cleaning(text: str) -> str:\n",
        "  \"\"\"Cleaning text by removing unnecessary characters and spaces.\"\"\"\n",
        "  if isinstance(text, str):\n",
        "      # Convert to lowercase\n",
        "      text = text.lower()\n",
        "      # Remove leading and trailing spaces\n",
        "      text = text.strip()\n",
        "      # Replace multiple spaces with a single space\n",
        "      text = re.sub(r'\\s+', ' ', text)\n",
        "      # Remove special characters except for common ones\n",
        "      text = re.sub(r'[^\\w\\s.,!?$%&@()-]', '', text)\n",
        "  return text"
      ],
      "metadata": {
        "id": "svdRj-vPDveY"
      },
      "execution_count": 92,
      "outputs": []
    },
    {
      "cell_type": "markdown",
      "source": [
        "### Router Node\n",
        "- `prerocessing_router_node`"
      ],
      "metadata": {
        "id": "_aDSc1QzPUt0"
      }
    },
    {
      "cell_type": "code",
      "source": [
        "import re\n",
        "\n",
        "def preprocessing_router_node(state: FlowState):\n",
        "  request_dto = state.request_dto\n",
        "  preprocessing_flow_state = state.preprocessing_flow_state\n",
        "\n",
        "  youtube_pattern = r\"^https?://(www\\.)?youtube\\.com\"\n",
        "  naver_news_pattern = r\"^https?://n\\.news\\.naver\\.com\"\n",
        "  naver_entertainment_pattern = r\"^https?://m\\.entertain\\.naver\\.com\"\n",
        "  naver_sports_pattern = r\"^https?://m\\.sports\\.naver\\.com\"\n",
        "\n",
        "  if re.match(naver_news_pattern, request_dto.original_url):\n",
        "      route = \"naver_news\"\n",
        "\n",
        "  elif re.match(naver_entertainment_pattern, request_dto.original_url):\n",
        "      route = \"naver_entertainment\"\n",
        "\n",
        "  elif re.match(naver_sports_pattern, request_dto.original_url):\n",
        "      route = \"naver_sports\"\n",
        "\n",
        "  elif re.match(youtube_pattern, request_dto.original_url):\n",
        "      route = \"youtube\"\n",
        "  else:\n",
        "      route = \"default\"\n",
        "\n",
        "  # Basic text cleaning\n",
        "  preprocessing_flow_state.preprocessed_title = text_cleaning(request_dto.original_title)\n",
        "  preprocessing_flow_state.preprocessed_content = text_cleaning(request_dto.original_content)\n",
        "  preprocessing_flow_state.preprocessed_url = request_dto.original_url\n",
        "  preprocessing_flow_state.route = route\n",
        "\n",
        "  state.preprocessing_flow_state = preprocessing_flow_state\n",
        "  return state"
      ],
      "metadata": {
        "id": "C4u9u9qpDv0Q"
      },
      "execution_count": 93,
      "outputs": []
    },
    {
      "cell_type": "markdown",
      "source": [
        "### Preprocessing Nodes Based on `flow_state.preprocessing_flow_state.route`\n",
        "1. `naver_news_preprocessing_node`\n",
        "2. `naver_entertainment_preprocessing_node`\n",
        "3. `naver_sports_preprocessing_node`\n",
        "4. `youtube_preprocessing_node`\n",
        "5. `default_preprocessing_node`\n",
        "\n",
        "---\n",
        "\n",
        "1. `content_parser`"
      ],
      "metadata": {
        "id": "HR_gCULMDngN"
      }
    },
    {
      "cell_type": "code",
      "source": [
        "import re\n",
        "\n",
        "def content_parser(text: str, remove_after: str = None, patterns: list = None) -> str:\n",
        "  if not isinstance(text, str):\n",
        "      return text\n",
        "\n",
        "  if remove_after:\n",
        "      text = re.sub(fr\"{remove_after}.*\", \"\", text, flags=re.IGNORECASE)\n",
        "\n",
        "  if patterns:\n",
        "    combined_pattern = \"|\".join(patterns)\n",
        "    text = re.sub(combined_pattern, \"\", text, flags=re.IGNORECASE)\n",
        "\n",
        "  # Remove excessive whitespace\n",
        "  text = re.sub(r\"\\s+\", \" \", text).strip()\n",
        "\n",
        "  return text"
      ],
      "metadata": {
        "id": "dCugrHGQAXOc"
      },
      "execution_count": 94,
      "outputs": []
    },
    {
      "cell_type": "code",
      "source": [
        "def preprocessing_naver_news_node(state: FlowState):\n",
        "  preprocessing_flow_state = state.preprocessing_flow_state\n",
        "  requestDto = state.request_dto\n",
        "  \"\"\"Cleans Naver News content.\"\"\"\n",
        "  preprocessing_flow_state.preprocessed_content = content_parser(requestDto.original_content, remove_after=\"copyright .*?\\. all rights reserved\")\n",
        "  preprocessing_flow_state.preprocessed_content = content_parser(requestDto.original_content, remove_after=\"기사 공유하기\")\n",
        "  preprocessing_flow_state.preprocessed_content = content_parser(requestDto.original_content, patterns = [\n",
        "          r\"본문 바로가기\", r\"naver\", r\"뉴스\", r\"엔터\", r\"스포츠\", r\"날씨\", r\"프리미엄\",\n",
        "          r\"사용자 링크\", r\"로그인\", r\"서비스\", r\"더보기\", r\"검색\", r\"언론사별\", r\"정치\",\n",
        "          r\"경제\", r\"사회\", r\"생활문화\", r\"it과학\", r\"세계\", r\"랭킹\", r\"신문보기\",\n",
        "          r\"오피니언\", r\"tv\", r\"팩트체크\", r\"알고리즘 안내\", r\"정정보도 모음\"])\n",
        "  return state\n",
        "\n",
        "def preprocessing_naver_entertainment_node(state: FlowState):\n",
        "  preprocessing_flow_state = state.preprocessing_flow_state\n",
        "  requestDto = state.request_dto\n",
        "\n",
        "  \"\"\"Cleans Naver Entertainment content.\"\"\"\n",
        "  preprocessing_flow_state.preprocessed_content = content_parser(requestDto.original_content, remove_after=\"copyright .*?\\. all rights reserved\")\n",
        "  preprocessing_flow_state.preprocessed_content = content_parser(requestDto.original_content, remove_after=\"기사 공유하기\")\n",
        "  preprocessing_flow_state.preprocessed_content = content_parser(requestDto.original_content, patterns = [\n",
        "      r\"본문 바로가기\", r\"naver\", r\"엔터\", r\"뉴스\", r\"스포츠\", r\"사용자 링크\", r\"로그인\",\n",
        "      r\"검색\", r\"홈\", r\"드라마\", r\"영화\", r\"뮤직\", r\"연애\", r\"포토\", r\"랭킹\", r\"최신뉴스\", r\"연재\", r\"종합\"])\n",
        "  return state\n",
        "\n",
        "def preprocessing_naver_sports_node(state: FlowState):\n",
        "  preprocessing_flow_state = state.preprocessing_flow_state\n",
        "  requestDto = state.request_dto\n",
        "  \"\"\"Cleans Naver Sports content.\"\"\"\n",
        "  preprocessing_flow_state.preprocessed_content = content_parser(requestDto.original_content, remove_after=\"copyright .*?\\. all rights reserved\")\n",
        "  preprocessing_flow_state.preprocessed_content = content_parser(requestDto.original_content, remove_after=\"기사 공유하기\")\n",
        "  return state\n",
        "\n",
        "def preprocessing_youtube_node(state: FlowState):\n",
        "  preprocessing_flow_state = state.preprocessing_flow_state\n",
        "  requestDto = state.request_dto\n",
        "  \"\"\"Cleans YouTube transcript content.\"\"\"\n",
        "  preprocessing_flow_state.preprocessed_content = content_parser(requestDto.original_content, remove_after=\"더보기\")\n",
        "  preprocessing_flow_state.preprocessed_content = content_parser(requestDto.original_content, patterns = [r\"kr\", r\"탐색\", r\"건너뛰기\", r\"만들기\"])\n",
        "  return state"
      ],
      "metadata": {
        "id": "YJENNr17h1YA"
      },
      "execution_count": 95,
      "outputs": []
    },
    {
      "cell_type": "markdown",
      "source": [
        "Hold"
      ],
      "metadata": {
        "id": "88p_fSl7DkyA"
      }
    },
    {
      "cell_type": "code",
      "source": [
        "from konlpy.tag import Okt\n",
        "\n",
        "korean_stopwords = [\n",
        "    \"아\", \"휴\", \"아이구\", \"아이쿠\", \"아이고\", \"어\", \"나\", \"우리\", \"저희\", \"따라\", \"의해\", \"을\", \"를\", \"에\", \"의\", \"가\",\n",
        "    \"으로\", \"로\", \"에게\", \"뿐이다\", \"의거하여\", \"근거하여\", \"입각하여\", \"기준으로\", \"예하면\", \"예를 들면\", \"예를 들자면\",\n",
        "    \"저\", \"소인\", \"소생\", \"저희\", \"지말고\", \"하지마\", \"하지마라\", \"다른\", \"물론\", \"또한\", \"그리고\", \"비길수 없다\", \"해서는 안된다\",\n",
        "    \"뿐만 아니라\", \"만이 아니다\", \"만은 아니다\", \"막론하고\", \"관계없이\", \"그치지 않다\", \"그러나\", \"그런데\", \"하지만\", \"든간에\",\n",
        "    \"논하지 않다\", \"따지지 않다\", \"설사\", \"비록\", \"더라도\", \"아니면\", \"만 못하다\", \"하는 편이 낫다\", \"불문하고\", \"향하여\",\n",
        "    \"향해서\", \"향하다\", \"쪽으로\", \"틈타\", \"이용하여\", \"타다\", \"오르다\", \"제외하고\", \"이 외에\", \"이 밖에\", \"하여야\",\n",
        "    \"비로소\", \"한다면 몰라도\", \"외에도\", \"이곳\", \"여기\", \"부터\", \"기점으로\", \"따라서\", \"할 생각이다\", \"하려고하다\",\n",
        "    \"이리하여\", \"그리하여\", \"그렇게 함으로써\", \"하지만\", \"일때\", \"할때\", \"앞에서\", \"중에서\", \"보는데서\", \"으로써\", \"로써\",\n",
        "    \"까지\", \"해야한다\", \"일것이다\", \"반드시\", \"할줄알다\", \"할수있다\", \"할수있어\", \"임에 틀림없다\", \"한다면\", \"등\", \"등등\",\n",
        "    \"제\", \"겨우\", \"단지\", \"다만\", \"할뿐\", \"딩동\", \"댕그\", \"대해서\", \"대하여\", \"대하면\", \"훨씬\", \"얼마나\", \"얼마만큼\",\n",
        "    \"얼마큼\", \"남짓\", \"여\", \"얼마간\", \"약간\", \"다소\", \"좀\", \"조금\", \"다수\", \"몇\", \"얼마\", \"지만\", \"하물며\", \"또한\",\n",
        "    \"그러나\", \"그렇지만\", \"하지만\", \"이외에도\", \"대해 말하자면\", \"뿐이다\", \"다음에\", \"반대로\", \"반대로 말하자면\",\n",
        "    \"이와 반대로\", \"바꾸어서 말하면\", \"바꾸어서 한다면\", \"만약\", \"그렇지않으면\", \"까악\", \"툭\", \"딱\", \"삐걱거리다\",\n",
        "    \"보드득\", \"비걱거리다\", \"꽈당\", \"응당\", \"해야한다\", \"에 가서\", \"각\", \"각각\", \"여러분\", \"각종\", \"각자\", \"제각기\",\n",
        "    \"하도록하다\", \"와\", \"과\", \"그러므로\", \"그래서\", \"고로\", \"한 까닭에\", \"하기 때문에\", \"거니와\", \"이지만\", \"대하여\",\n",
        "    \"관하여\", \"관한\", \"과연\", \"실로\", \"아니나다를가\", \"생각한대로\", \"진짜로\", \"한적이있다\", \"하곤하였다\", \"하\", \"하하\",\n",
        "    \"허허\", \"아하\", \"거바\", \"와\", \"오\", \"왜\", \"어째서\", \"무엇때문에\", \"어찌\", \"하겠는가\", \"무슨\", \"어디\", \"어느곳\",\n",
        "    \"더군다나\", \"하물며\", \"더욱이는\", \"어느때\", \"언제\", \"야\", \"이봐\", \"어이\", \"여보시오\", \"흐흐\", \"흥\", \"휴\", \"헉헉\",\n",
        "    \"헐떡헐떡\", \"영차\", \"여차\", \"어기여차\", \"끙끙\", \"아야\", \"앗\", \"아야\", \"콸콸\", \"졸졸\", \"좍좍\", \"뚝뚝\", \"주룩주룩\",\n",
        "    \"솨\", \"우르르\", \"그래도\", \"또\", \"그리고\", \"바꾸어말하면\", \"바꾸어말하자면\", \"혹은\", \"혹시\", \"답다\", \"및\", \"그에 따르는\",\n",
        "    \"때가 되어\", \"즉\", \"지든지\", \"설령\", \"가령\", \"하더라도\", \"할지라도\", \"일지라도\", \"지든지\", \"몇\", \"거의\", \"하마터면\",\n",
        "    \"인젠\", \"이젠\", \"된바에야\", \"된이상\", \"만큼\", \"어찌됏든\", \"그위에\", \"게다가\", \"점에서 보아\", \"비추어 보아\", \"고려하면\",\n",
        "    \"하게될것이다\", \"일것이다\", \"비교적\", \"좀\", \"보다더\", \"비하면\", \"시키다\", \"하게하다\", \"할만하다\", \"의해서\", \"연이서\",\n",
        "    \"이어서\", \"잇따라\", \"뒤따라\", \"뒤이어\", \"결국\", \"의지하여\", \"기대여\", \"통하여\", \"자마자\", \"더욱더\", \"불구하고\",\n",
        "    \"얼마든지\", \"마음대로\", \"주저하지 않고\", \"곧\", \"즉시\", \"바로\", \"당장\", \"하자마자\", \"밖에 안된다\", \"하면된다\", \"그래\",\n",
        "    \"그렇지\", \"요컨대\", \"다시 말하자면\", \"바꿔 말하면\", \"즉\", \"구체적으로\", \"말하자면\", \"시작하여\", \"시초에\", \"이상\", \"허\",\n",
        "    \"헉\", \"허걱\", \"바와같이\", \"해도좋다\", \"해도된다\", \"게다가\", \"더구나\", \"하물며\", \"와르르\", \"팍\", \"퍽\", \"펄렁\", \"동안\",\n",
        "    \"이래\", \"하고있었다\", \"이었다\", \"에서\", \"로부터\", \"까지\", \"예하면\", \"했어요\", \"해요\", \"함께\", \"같이\", \"더불어\", \"마저\",\n",
        "    \"마저도\", \"양자\", \"모두\", \"습니다\", \"가까스로\", \"하려고하다\", \"즈음하여\", \"다른\", \"다른 방면으로\", \"해봐요\", \"습니까\",\n",
        "    \"했어요\", \"말할것도 없고\", \"무릎쓰고\", \"개의치않고\", \"하는것만 못하다\", \"하는것이 낫다\", \"매\", \"매번\", \"들\", \"모\", \"어느것\",\n",
        "    \"어느\", \"로써\", \"갖고말하자면\", \"어디\", \"어느쪽\", \"어느것\", \"어느해\", \"어느 년도\", \"라 해도\", \"언젠가\", \"어떤것\", \"어느것\",\n",
        "    \"저기\", \"저쪽\", \"저것\", \"그때\", \"그럼\", \"그러면\", \"요만한걸\", \"그래\", \"그때\", \"저것만큼\", \"그저\", \"이르기까지\", \"할 줄 안다\",\n",
        "    \"할 힘이 있다\", \"너\", \"너희\", \"당신\", \"어찌\", \"설마\", \"차라리\", \"할지언정\", \"할지라도\", \"할망정\", \"할지언정\", \"년\", \"월\",\n",
        "    \"일\", \"하나\", \"둘\", \"셋\", \"넷\", \"다섯\", \"여섯\", \"일곱\", \"여덟\", \"아홉\"\n",
        "]\n",
        "\n",
        "\n",
        "def default_preprocessing_node(state: FlowState):\n",
        "  preprocessing_flow_state = state.preprocessing_flow_state\n",
        "  content = preprocessing_flow_state.preprocessed_content\n",
        "  okt = Okt()\n",
        "  content_tokens = okt.morphs(content)\n",
        "\n",
        "  result = [\n",
        "      word for word in content_tokens\n",
        "        if not word in korean_stopwords\n",
        "      ]\n",
        "  preprocessing_flow_state.preprocessed_content = \" \".join(result)\n",
        "  return state"
      ],
      "metadata": {
        "id": "sJk-tzkhoITL"
      },
      "execution_count": 96,
      "outputs": []
    },
    {
      "cell_type": "markdown",
      "source": [
        "## Nodes for Retriever & Generation Flow\n",
        "- `embedding_node`\n",
        "- `retriever_node`"
      ],
      "metadata": {
        "id": "1L8QxEFWFgyI"
      }
    },
    {
      "cell_type": "code",
      "source": [
        "def embedding_node(state = FlowState) -> FlowState:\n",
        "  return state"
      ],
      "metadata": {
        "id": "Qg_tn4c-GT4Y"
      },
      "execution_count": 97,
      "outputs": []
    },
    {
      "cell_type": "code",
      "source": [
        "from langchain_pinecone import PineconeVectorStore\n",
        "from pinecone import Pinecone\n",
        "from pydantic import BaseModel\n",
        "from typing import List\n",
        "from langchain_openai import OpenAIEmbeddings\n",
        "import tiktoken\n",
        "\n",
        "pc = Pinecone(api_key=userdata.get('PINECONE-API-KEY'))\n",
        "\n",
        "\n",
        "def retriever_init(index_name: str, embeddings, namespace):\n",
        "  index = pc.Index(index_name)\n",
        "  vector_store = PineconeVectorStore(index=index, embedding=embeddings)\n",
        "  return vector_store.as_retriever(\n",
        "    search_type=\"similarity_score_threshold\",\n",
        "    search_kwargs={\"k\": 2, \"score_threshold\": 0.65,\"namespace\": namespace},)\n",
        "\n",
        "def retrieved_vector_parser(given_vectors, market_name=\"N/A\"):\n",
        "    return [\n",
        "        ResponseDto(\n",
        "            korean_name=vector.metadata.get(\"korean_name\", \"N/A\"),\n",
        "            english_name=vector.metadata.get(\"english_name\", \"N/A\"),\n",
        "            ticker_code=vector.metadata.get(\"ticker_code\", \"N/A\"),\n",
        "            market=market_name\n",
        "        )\n",
        "        for vector in given_vectors\n",
        "    ]\n",
        "\n",
        "def retriever_node(state: FlowState):\n",
        "  preprocessing_flow_state = state.preprocessing_flow_state\n",
        "  text = f\"{preprocessing_flow_state.preprocessed_title}  {preprocessing_flow_state.preprocessed_content}\"\n",
        "\n",
        "  # Vector Store init\n",
        "  embeddings = OpenAIEmbeddings(model=\"text-embedding-3-large\")\n",
        "  kor_retriever = retriever_init(\"sae-embedded-stocks-kor\", embeddings, \"kospi-900\")\n",
        "  foriegn_retriever = retriever_init(\"sae-embedded-stocks-foriegn\", embeddings, \"nasdaq-1000\")\n",
        "\n",
        "  # Invoke\n",
        "  kor_result = retrieved_vector_parser(kor_retriever.invoke(text), \"KOSPI\")\n",
        "  foriegn_result = retrieved_vector_parser(foriegn_retriever.invoke(text),\"NASDAQ\")\n",
        "  state.response_dto.extend(kor_result)\n",
        "  state.response_dto.extend(foriegn_result)\n",
        "  return state"
      ],
      "metadata": {
        "id": "qKzdwnxKJWIa"
      },
      "execution_count": 98,
      "outputs": []
    },
    {
      "cell_type": "markdown",
      "source": [
        "# Flows"
      ],
      "metadata": {
        "id": "zno_7m6WAW7q"
      }
    },
    {
      "cell_type": "markdown",
      "source": [
        "## Preprocessing Flow"
      ],
      "metadata": {
        "id": "BGau14VFGWzn"
      }
    },
    {
      "cell_type": "code",
      "source": [
        "from langgraph.graph import StateGraph, START, END\n",
        "\n",
        "preprocessing_graph = StateGraph(state_schema=FlowState)\n",
        "\n",
        "# Registering Noes\n",
        "\n",
        "## router\n",
        "preprocessing_graph.add_node(\"preprocessing_router_node\", preprocessing_router_node)\n",
        "\n",
        "## preprocessing\n",
        "preprocessing_graph.add_node(\"naver_news_preprocessing_node\", preprocessing_naver_news_node)\n",
        "preprocessing_graph.add_node(\"naver_entertainment_preprocessing_node\", preprocessing_naver_entertainment_node)\n",
        "preprocessing_graph.add_node(\"naver_sports_preprocessing_node\", preprocessing_naver_sports_node)\n",
        "preprocessing_graph.add_node(\"youtube_preprocessing_node\", preprocessing_youtube_node)\n",
        "preprocessing_graph.add_node(\"default_preprocessing_node\", default_preprocessing_node)\n",
        "\n",
        "\n",
        "# Registering Edges\n",
        "# Conditional Edges\n",
        "preprocessing_graph.add_edge(START, \"preprocessing_router_node\")\n",
        "\n",
        "preprocessing_graph.add_conditional_edges(\n",
        "    \"preprocessing_router_node\",\n",
        "    lambda flow_state: flow_state.preprocessing_flow_state.route,\n",
        "    {\n",
        "        \"naver_news\": \"naver_news_preprocessing_node\",\n",
        "        \"naver_entertainment\": \"naver_entertainment_preprocessing_node\",\n",
        "        \"naver_sports\": \"naver_sports_preprocessing_node\",\n",
        "        \"youtube\": \"youtube_preprocessing_node\",\n",
        "        # \"default\": \"default_preprocessing_node\",\n",
        "        \"default\": END,\n",
        "    }\n",
        ")\n",
        "\n",
        "# preprocessing_graph.add_edge(\"naver_news_preprocessing_node\", \"default_preprocessing_node\")\n",
        "# preprocessing_graph.add_edge(\"naver_entertainment_preprocessing_node\", \"default_preprocessing_node\")\n",
        "# preprocessing_graph.add_edge(\"naver_sports_preprocessing_node\", \"default_preprocessing_node\")\n",
        "# preprocessing_graph.add_edge(\"youtube_preprocessing_node\", \"default_preprocessing_node\")\n",
        "# preprocessing_graph.add_edge(\"default_preprocessing_node\", END)\n",
        "preprocessing_graph.add_edge(\"naver_news_preprocessing_node\", END)\n",
        "preprocessing_graph.add_edge(\"naver_entertainment_preprocessing_node\", END)\n",
        "preprocessing_graph.add_edge(\"naver_sports_preprocessing_node\", END)\n",
        "preprocessing_graph.add_edge(\"youtube_preprocessing_node\", END)\n",
        "\n",
        "# agent Init\n",
        "preprocessing_agent = preprocessing_graph.compile()"
      ],
      "metadata": {
        "id": "3V_HZIg6AZyf"
      },
      "execution_count": 99,
      "outputs": []
    },
    {
      "cell_type": "markdown",
      "source": [
        "### Visualization"
      ],
      "metadata": {
        "id": "n9Q3fPYOUhO3"
      }
    },
    {
      "cell_type": "code",
      "source": [
        "# Visualize your graph\n",
        "from IPython.display import Image, display\n",
        "png = preprocessing_agent.get_graph().draw_mermaid_png()\n",
        "display(Image(png))"
      ],
      "metadata": {
        "colab": {
          "base_uri": "https://localhost:8080/",
          "height": 396
        },
        "outputId": "10108bad-eb82-4f73-db0a-28661c5782f4",
        "id": "XI0kC_F9UhO4"
      },
      "execution_count": 100,
      "outputs": [
        {
          "output_type": "display_data",
          "data": {
            "image/png": "[encoded data removed]",
            "text/plain": [
              "<IPython.core.display.Image object>"
            ]
          },
          "metadata": {}
        }
      ]
    },
    {
      "cell_type": "markdown",
      "source": [
        "## Retriever & Generation Flow"
      ],
      "metadata": {
        "id": "esKojhnDGYx5"
      }
    },
    {
      "cell_type": "code",
      "source": [
        "from langgraph.graph import StateGraph, START, END\n",
        "\n",
        "rag_graph = StateGraph(state_schema=FlowState)\n",
        "\n",
        "# Registering Noes\n",
        "rag_graph.add_node(\"embedding_node\", embedding_node)\n",
        "rag_graph.add_node(\"retriever_node\", retriever_node)\n",
        "\n",
        "# Registering Edges\n",
        "rag_graph.add_edge(START, \"embedding_node\")\n",
        "rag_graph.add_edge(\"embedding_node\", \"retriever_node\")\n",
        "rag_graph.add_edge(\"retriever_node\", END)\n",
        "\n",
        "# Flow Init\n",
        "rag_agent = rag_graph.compile()"
      ],
      "metadata": {
        "collapsed": true,
        "id": "kV7tN7KRGd_A"
      },
      "execution_count": 101,
      "outputs": []
    },
    {
      "cell_type": "markdown",
      "source": [
        "### Visualization"
      ],
      "metadata": {
        "id": "BGVyo4YAwi6O"
      }
    },
    {
      "cell_type": "code",
      "source": [
        "# Visualize your graph\n",
        "from IPython.display import Image, display\n",
        "png = rag_agent.get_graph().draw_mermaid_png()\n",
        "display(Image(png))"
      ],
      "metadata": {
        "id": "aw-yhmFMwlUq",
        "colab": {
          "base_uri": "https://localhost:8080/",
          "height": 350
        },
        "outputId": "4e9bd2d2-29a9-47e2-d1f4-991849333767"
      },
      "execution_count": 102,
      "outputs": [
        {
          "output_type": "display_data",
          "data": {
            "image/png": "[encoded data removed]",
            "text/plain": [
              "<IPython.core.display.Image object>"
            ]
          },
          "metadata": {}
        }
      ]
    },
    {
      "cell_type": "markdown",
      "source": [
        "# Testing"
      ],
      "metadata": {
        "id": "rLHnSjDUAaLv"
      }
    },
    {
      "cell_type": "code",
      "source": [
        "def flow_init(row: pd.Series) -> FlowState:\n",
        "  request_dto = RequestDto(\n",
        "      original_title=row.title,\n",
        "      original_url=row.url,\n",
        "      original_content=row.content\n",
        "  )\n",
        "  response = []\n",
        "  preprocessing_flow_state = PreprocessingFlowState(\n",
        "      route=\"\",\n",
        "      preprocessed_title=\"\",\n",
        "      preprocessed_url=\"\",\n",
        "      preprocessed_content=\"\"\n",
        "  )\n",
        "  rag_flow_state = RAGFlowState(\n",
        "      route=\"\"\n",
        "  )\n",
        "  flow_state = FlowState(\n",
        "      request_dto=request_dto,\n",
        "      response_dto=response,\n",
        "      preprocessing_flow_state=preprocessing_flow_state,\n",
        "      rag_flow_state=rag_flow_state\n",
        "  )\n",
        "  return flow_state"
      ],
      "metadata": {
        "id": "SADHMcu9W_lO"
      },
      "execution_count": 103,
      "outputs": []
    },
    {
      "cell_type": "code",
      "source": [
        "before_length_total = 0\n",
        "after_length_total = 0\n",
        "for row in df_one.itertuples(index=False):\n",
        "  original_flow_state = flow_init(row)\n",
        "  print(\"Title: \", original_flow_state.request_dto.original_title + \"\\n\")\n",
        "\n",
        "  print(\"Preprocessing Flow\")\n",
        "  preprocessed_flow_state = preprocessing_agent.invoke(original_flow_state)\n",
        "  before_length = len(preprocessed_flow_state['request_dto'].original_content)\n",
        "  after_length = len(preprocessed_flow_state['preprocessing_flow_state'].preprocessed_content)\n",
        "  print(\"Before: \"+str(before_length))\n",
        "  print(\"After: \" +str(after_length))\n",
        "  print(\"\")\n",
        "  before_length_total += before_length\n",
        "  after_length_total += after_length\n",
        "\n",
        "  print(\"RAG Flow\")\n",
        "  rag_state = FlowState(\n",
        "      request_dto=preprocessed_flow_state['request_dto'],\n",
        "      response_dto=preprocessed_flow_state['response_dto'],\n",
        "      rag_flow_state=preprocessed_flow_state['rag_flow_state'],\n",
        "      preprocessing_flow_state=preprocessed_flow_state['preprocessing_flow_state'],\n",
        "  )\n",
        "\n",
        "  response_state = rag_agent.invoke(rag_state)\n",
        "  for response in response_state['response_dto']:\n",
        "    print(\"KOR Name:\",response.korean_name + \"(\" + response.market +\")\")\n",
        "  print(\"\")\n",
        "  print(\"------------\\n\")\n",
        "\n",
        "print(\"Average reduction by length\")\n",
        "print(int((before_length_total - after_length_total)/len(df_one)))"
      ],
      "metadata": {
        "colab": {
          "base_uri": "https://localhost:8080/"
        },
        "id": "0AAT_gWrAb9h",
        "outputId": "de7cd566-382a-466b-b33a-379d9aa8f827"
      },
      "execution_count": 105,
      "outputs": [
        {
          "output_type": "stream",
          "name": "stdout",
          "text": [
            "Title:  [종합] 김태희, 해외서 권총 강도 당했다…'연매출 1100억' 정샘물 \"피해액 2000만원\"('백억짜리')\n",
            "\n",
            "Preprocessing Flow\n",
            "Before: 2678\n",
            "After: 2526\n",
            "\n",
            "RAG Flow\n",
            "KOR Name: 티와이홀딩스(KOSPI)\n",
            "KOR Name: 시프트업(KOSPI)\n",
            "KOR Name: 울타 뷰티(NASDAQ)\n",
            "KOR Name: 타불라(NASDAQ)\n",
            "\n",
            "------------\n",
            "\n",
            "Title:  연예계 불화 또 터졌다…곽준빈, 유명 여배우에 막말 \"네가 무슨 배우야\" ('전현무계획')\n",
            "\n",
            "Preprocessing Flow\n",
            "Before: 2665\n",
            "After: 2517\n",
            "\n",
            "RAG Flow\n",
            "KOR Name: IHQ(KOSPI)\n",
            "KOR Name: NAVER(KOSPI)\n",
            "KOR Name: 넥스타 미디어 그룹(NASDAQ)\n",
            "KOR Name: 넷플릭스(NASDAQ)\n",
            "\n",
            "------------\n",
            "\n",
            "Title:  시우민 '뮤뱅' 출연 거부 여파..이무진, '리무진서비스' 녹화 돌연 불참 [스타이슈]\n",
            "\n",
            "Preprocessing Flow\n",
            "Before: 3408\n",
            "After: 3227\n",
            "\n",
            "RAG Flow\n",
            "KOR Name: IHQ(KOSPI)\n",
            "KOR Name: 키다리스튜디오(KOSPI)\n",
            "KOR Name: 넥스타 미디어 그룹(NASDAQ)\n",
            "KOR Name: 윅스닷컴(NASDAQ)\n",
            "\n",
            "------------\n",
            "\n",
            "Title:  '우효광♥' 추자현, 폭풍 성장 子와 애틋한 재회..\"떨어져 지내 힘들었다\"\n",
            "\n",
            "Preprocessing Flow\n",
            "Before: 2808\n",
            "After: 2647\n",
            "\n",
            "RAG Flow\n"
          ]
        },
        {
          "output_type": "stream",
          "name": "stderr",
          "text": [
            "WARNING:langchain_core.vectorstores.base:No relevant docs were retrieved using the relevance score threshold 0.65\n"
          ]
        },
        {
          "output_type": "stream",
          "name": "stdout",
          "text": [
            "KOR Name: IHQ(KOSPI)\n",
            "KOR Name: NAVER(KOSPI)\n",
            "\n",
            "------------\n",
            "\n",
            "Title:  '이혼숙려캠프' 온가족 무직, \"생활비= 父 유산 2억 다 써\" '충격'\n",
            "\n",
            "Preprocessing Flow\n",
            "Before: 2351\n",
            "After: 2204\n",
            "\n",
            "RAG Flow\n",
            "KOR Name: NAVER(KOSPI)\n",
            "KOR Name: IHQ(KOSPI)\n",
            "KOR Name: 넥스타 미디어 그룹(NASDAQ)\n",
            "KOR Name: 넷플릭스(NASDAQ)\n",
            "\n",
            "------------\n",
            "\n",
            "Title:  與 \"홍장원 이어 곽종근도 진술 조작\" \"내란 아닌 내란몰이 사기극\"\n",
            "\n",
            "Preprocessing Flow\n",
            "Before: 9968\n",
            "After: 9379\n",
            "\n",
            "RAG Flow\n"
          ]
        },
        {
          "output_type": "stream",
          "name": "stderr",
          "text": [
            "WARNING:langchain_core.vectorstores.base:No relevant docs were retrieved using the relevance score threshold 0.65\n"
          ]
        },
        {
          "output_type": "stream",
          "name": "stdout",
          "text": [
            "KOR Name: 호전실업(KOSPI)\n",
            "KOR Name: 한화갤러리아(KOSPI)\n",
            "\n",
            "------------\n",
            "\n",
            "Title:  안보실장 \"한미, 대북정책 반드시 사전에 긴밀히 공조하기로\"\n",
            "\n",
            "Preprocessing Flow\n",
            "Before: 4226\n",
            "After: 3945\n",
            "\n",
            "RAG Flow\n",
            "KOR Name: 콘텐트리중앙(KOSPI)\n",
            "KOR Name: 현대퓨처넷(KOSPI)\n",
            "KOR Name: 트럼프 미디어 & 테크놀로지 그룹(NASDAQ)\n",
            "KOR Name: 뉴스 코퍼레이션 Class B(NASDAQ)\n",
            "\n",
            "------------\n",
            "\n",
            "Title:  선관위 사무총장 “특혜 채용 당사자 봐주지 않을것”…추가 조치 예고\n",
            "\n",
            "Preprocessing Flow\n",
            "Before: 8982\n",
            "After: 8361\n",
            "\n",
            "RAG Flow\n"
          ]
        },
        {
          "output_type": "stream",
          "name": "stderr",
          "text": [
            "WARNING:langchain_core.vectorstores.base:No relevant docs were retrieved using the relevance score threshold 0.65\n"
          ]
        },
        {
          "output_type": "stream",
          "name": "stdout",
          "text": [
            "KOR Name: 에스원(KOSPI)\n",
            "KOR Name: 한화투자증권(KOSPI)\n",
            "\n",
            "------------\n",
            "\n",
            "Title:  '민가 오폭' 공군, 모든 항공기 비행 제한…조종사 교육 착수\n",
            "\n",
            "Preprocessing Flow\n",
            "Before: 9033\n",
            "After: 8444\n",
            "\n",
            "RAG Flow\n"
          ]
        },
        {
          "output_type": "stream",
          "name": "stderr",
          "text": [
            "WARNING:langchain_core.vectorstores.base:No relevant docs were retrieved using the relevance score threshold 0.65\n"
          ]
        },
        {
          "output_type": "stream",
          "name": "stdout",
          "text": [
            "KOR Name: 남양유업(KOSPI)\n",
            "KOR Name: CJ제일제당(KOSPI)\n",
            "\n",
            "------------\n",
            "\n",
            "Title:  [속보] 이재명 “국민의힘 제안 배우자 상속세 면제·폐지 동의”\n",
            "\n",
            "Preprocessing Flow\n",
            "Before: 4617\n",
            "After: 4428\n",
            "\n",
            "RAG Flow\n",
            "KOR Name: 한세예스24홀딩스(KOSPI)\n",
            "KOR Name: 현대퓨처넷(KOSPI)\n",
            "KOR Name: 리갈줌닷컴(NASDAQ)\n",
            "KOR Name: 모닝스타(NASDAQ)\n",
            "\n",
            "------------\n",
            "\n",
            "Title:  \"한국인들 신라면·새우깡 없인 못 사는데\"…가격 오른다\n",
            "\n",
            "Preprocessing Flow\n",
            "Before: 9292\n",
            "After: 8723\n",
            "\n",
            "RAG Flow\n",
            "KOR Name: 농심(KOSPI)\n",
            "KOR Name: 신풍(KOSPI)\n",
            "KOR Name: 세즐(NASDAQ)\n",
            "KOR Name: 데이브(NASDAQ)\n",
            "\n",
            "------------\n",
            "\n",
            "Title:  민주 \"홈플러스 법정관리 일파만파…MBK 과도한 탐욕이 원인\"\n",
            "\n",
            "Preprocessing Flow\n",
            "Before: 8673\n",
            "After: 8053\n",
            "\n",
            "RAG Flow\n",
            "KOR Name: 한화갤러리아(KOSPI)\n",
            "KOR Name: 한화투자증권(KOSPI)\n",
            "KOR Name: 헬스에퀴티(NASDAQ)\n",
            "\n",
            "------------\n",
            "\n",
            "Title:  한국면세점협회 제10대 회장에 김동하 롯데면세점 대표이사\n",
            "\n",
            "Preprocessing Flow\n",
            "Before: 8311\n",
            "After: 7735\n",
            "\n",
            "RAG Flow\n",
            "KOR Name: 현대홈쇼핑(KOSPI)\n",
            "KOR Name: 현대퓨처넷(KOSPI)\n",
            "KOR Name: 지프 데이비스(NASDAQ)\n",
            "KOR Name: 뉴스 코퍼레이션 Class B(NASDAQ)\n",
            "\n",
            "------------\n",
            "\n",
            "Title:  지난달 선박수주 中 1위…韓은 다시 2위로\n",
            "\n",
            "Preprocessing Flow\n",
            "Before: 8658\n",
            "After: 8095\n",
            "\n",
            "RAG Flow\n",
            "KOR Name: 롯데손해보험(KOSPI)\n",
            "KOR Name: KCC글라스(KOSPI)\n",
            "KOR Name: 로빈후드(NASDAQ)\n",
            "KOR Name: 프론트도어(NASDAQ)\n",
            "\n",
            "------------\n",
            "\n",
            "Title:  도시 생활물류 인프라 확충…민·관 논의 협의체 구성\n",
            "\n",
            "Preprocessing Flow\n",
            "Before: 8771\n",
            "After: 8191\n",
            "\n",
            "RAG Flow\n",
            "KOR Name: 현대퓨처넷(KOSPI)\n",
            "KOR Name: NPC(KOSPI)\n",
            "KOR Name: 타불라(NASDAQ)\n",
            "KOR Name: 도어대시(NASDAQ)\n",
            "\n",
            "------------\n",
            "\n",
            "Title:  SKT MWC 전시관에 7만명 몰려…AI인프라 슈퍼 하이웨이 체험 인기\n",
            "\n",
            "Preprocessing Flow\n",
            "Before: 9154\n",
            "After: 8566\n",
            "\n",
            "RAG Flow\n",
            "KOR Name: 한화갤러리아(KOSPI)\n",
            "KOR Name: CJ제일제당(KOSPI)\n",
            "KOR Name: 애플(NASDAQ)\n",
            "KOR Name: 이플러스(NASDAQ)\n",
            "\n",
            "------------\n",
            "\n",
            "Title:  `찰나의 순간 변화`, 빛으로 실시간 관측…발광현상 등 정밀 조작 가능성\n",
            "\n",
            "Preprocessing Flow\n",
            "Before: 9648\n",
            "After: 9088\n",
            "\n",
            "RAG Flow\n",
            "KOR Name: 현대퓨처넷(KOSPI)\n",
            "KOR Name: NPC(KOSPI)\n",
            "KOR Name: 타불라(NASDAQ)\n",
            "KOR Name: 템퍼스 AI(NASDAQ)\n",
            "\n",
            "------------\n",
            "\n",
            "Title:  “세계 공략할 비장의 무기는”...4300억 벌겠다는 LG유플러스의 포부\n",
            "\n",
            "Preprocessing Flow\n",
            "Before: 10168\n",
            "After: 9566\n",
            "\n",
            "RAG Flow\n",
            "KOR Name: 현대퓨처넷(KOSPI)\n",
            "KOR Name: LG유플러스(KOSPI)\n",
            "KOR Name: 인터디지털(NASDAQ)\n",
            "KOR Name: 이플러스(NASDAQ)\n",
            "\n",
            "------------\n",
            "\n",
            "Title:  “매달 2650만원 내야한다니”...그래도 쓸 사람은 쓴다는 이것\n",
            "\n",
            "Preprocessing Flow\n",
            "Before: 9814\n",
            "After: 9292\n",
            "\n",
            "RAG Flow\n",
            "KOR Name: NAVER(KOSPI)\n",
            "KOR Name: HDC(KOSPI)\n",
            "KOR Name: 템퍼스 AI(NASDAQ)\n",
            "KOR Name: 잼프 홀딩(NASDAQ)\n",
            "\n",
            "------------\n",
            "\n",
            "Title:  '폴더블 아이폰' 나온다는데 가격이…애플 마니아도 '후덜덜'\n",
            "\n",
            "Preprocessing Flow\n",
            "Before: 9340\n",
            "After: 8780\n",
            "\n",
            "RAG Flow\n",
            "KOR Name: 현대퓨처넷(KOSPI)\n",
            "KOR Name: 아이마켓코리아(KOSPI)\n",
            "KOR Name: 트럼프 미디어 & 테크놀로지 그룹(NASDAQ)\n",
            "KOR Name: 로빈후드(NASDAQ)\n",
            "\n",
            "------------\n",
            "\n",
            "Title:  캐나다, 트럼프 관세 유예에 ‘125조원 규모’ 2단계 대미 보복관세 연기\n",
            "\n",
            "Preprocessing Flow\n",
            "Before: 9224\n",
            "After: 8621\n",
            "\n",
            "RAG Flow\n",
            "KOR Name: 한화투자증권(KOSPI)\n",
            "KOR Name: 한화갤러리아(KOSPI)\n",
            "KOR Name: 프리덤 홀딩(NASDAQ)\n",
            "KOR Name: 힐먼 솔루션스(NASDAQ)\n",
            "\n",
            "------------\n",
            "\n",
            "Title:  美·우크라, 조만간 실무 회의…'정상회담 파행' 봉합 수순?\n",
            "\n",
            "Preprocessing Flow\n",
            "Before: 8815\n",
            "After: 8256\n",
            "\n",
            "RAG Flow\n"
          ]
        },
        {
          "output_type": "stream",
          "name": "stderr",
          "text": [
            "WARNING:langchain_core.vectorstores.base:No relevant docs were retrieved using the relevance score threshold 0.65\n"
          ]
        },
        {
          "output_type": "stream",
          "name": "stdout",
          "text": [
            "KOR Name: 트럼프 미디어 & 테크놀로지 그룹(NASDAQ)\n",
            "KOR Name: 로빈후드(NASDAQ)\n",
            "\n",
            "------------\n",
            "\n",
            "Title:  트럼프 \"나토 국가들, 방위비 안 내면 방어 안 할 것\"\n",
            "\n",
            "Preprocessing Flow\n",
            "Before: 8950\n",
            "After: 8365\n",
            "\n",
            "RAG Flow\n",
            "KOR Name: 티와이홀딩스(KOSPI)\n",
            "KOR Name: IHQ(KOSPI)\n",
            "KOR Name: 넷플릭스(NASDAQ)\n",
            "\n",
            "------------\n",
            "\n",
            "Title:  \"딥시크보다 저비용 고성능 AI 모델\" 내놓은 알리바바 주가 급등\n",
            "\n",
            "Preprocessing Flow\n",
            "Before: 8807\n",
            "After: 8224\n",
            "\n",
            "RAG Flow\n",
            "KOR Name: 현대퓨처넷(KOSPI)\n",
            "KOR Name: 현대홈쇼핑(KOSPI)\n",
            "KOR Name: 모닝스타(NASDAQ)\n",
            "KOR Name: 아마존닷컴(NASDAQ)\n",
            "\n",
            "------------\n",
            "\n",
            "Title:  ‘트럼프 실세’ 머스크 반감에 애꿎은 이곳만 불탔다\n",
            "\n",
            "Preprocessing Flow\n",
            "Before: 9359\n",
            "After: 8751\n",
            "\n",
            "RAG Flow\n"
          ]
        },
        {
          "output_type": "stream",
          "name": "stderr",
          "text": [
            "WARNING:langchain_core.vectorstores.base:No relevant docs were retrieved using the relevance score threshold 0.65\n",
            "WARNING:langchain_core.vectorstores.base:No relevant docs were retrieved using the relevance score threshold 0.65\n"
          ]
        },
        {
          "output_type": "stream",
          "name": "stdout",
          "text": [
            "\n",
            "------------\n",
            "\n",
            "Title:  이정후, 시범경기 2호 홈런 폭발! (feat.현지해설) #SPOTIME - YouTube\n",
            "\n",
            "Preprocessing Flow\n",
            "Before: 2021\n",
            "After: 1999\n",
            "\n",
            "RAG Flow\n"
          ]
        },
        {
          "output_type": "stream",
          "name": "stderr",
          "text": [
            "WARNING:langchain_core.vectorstores.base:No relevant docs were retrieved using the relevance score threshold 0.65\n"
          ]
        },
        {
          "output_type": "stream",
          "name": "stdout",
          "text": [
            "KOR Name: 타불라(NASDAQ)\n",
            "\n",
            "------------\n",
            "\n",
            "Title:  뜨거운 열간 단조 기술로 대형 베어링을 만드는 과정. 놀라운 한국의 볼 베어링 공장 - YouTube\n",
            "\n",
            "Preprocessing Flow\n",
            "Before: 5695\n",
            "After: 5667\n",
            "\n",
            "RAG Flow\n",
            "KOR Name: 한국특강(KOSPI)\n",
            "KOR Name: 제일연마(KOSPI)\n",
            "KOR Name: 카이저 알루미늄(NASDAQ)\n",
            "KOR Name: 조메트리(NASDAQ)\n",
            "\n",
            "------------\n",
            "\n",
            "Title:  일본 귀족이 평가하는 QWER... - YouTube\n",
            "\n",
            "Preprocessing Flow\n",
            "Before: 1758\n",
            "After: 1729\n",
            "\n",
            "RAG Flow\n"
          ]
        },
        {
          "output_type": "stream",
          "name": "stderr",
          "text": [
            "WARNING:langchain_core.vectorstores.base:No relevant docs were retrieved using the relevance score threshold 0.65\n"
          ]
        },
        {
          "output_type": "stream",
          "name": "stdout",
          "text": [
            "KOR Name: 타불라(NASDAQ)\n",
            "KOR Name: 메타(NASDAQ)\n",
            "\n",
            "------------\n",
            "\n",
            "Title:  [휴먼다큐 자식이 좋다] EP.02 '엄마라는 이름으로' Jamie맘 이소담 씨의 아찔한 라이딩 (20250225 방송) #이수지 #핫이슈지 #자식이좋다 - YouTube\n",
            "\n",
            "Preprocessing Flow\n",
            "Before: 2085\n",
            "After: 2059\n",
            "\n",
            "RAG Flow\n",
            "KOR Name: CJ제일제당(KOSPI)\n",
            "KOR Name: IHQ(KOSPI)\n",
            "KOR Name: 줌 커뮤니케이션스(NASDAQ)\n",
            "KOR Name: 타불라(NASDAQ)\n",
            "\n",
            "------------\n",
            "\n",
            "Title:  국내 최초의 슈퍼카 제조업체(가 될뻔했던) 어울림 모터스에 대해 알아보자 - YouTube\n",
            "\n",
            "Preprocessing Flow\n",
            "Before: 1838\n",
            "After: 1818\n",
            "\n",
            "RAG Flow\n"
          ]
        },
        {
          "output_type": "stream",
          "name": "stderr",
          "text": [
            "WARNING:langchain_core.vectorstores.base:No relevant docs were retrieved using the relevance score threshold 0.65\n"
          ]
        },
        {
          "output_type": "stream",
          "name": "stdout",
          "text": [
            "KOR Name: 타불라(NASDAQ)\n",
            "KOR Name: 리버티 미디어 Series A(NASDAQ)\n",
            "\n",
            "------------\n",
            "\n",
            "Title:  '불붙은 무역전쟁' 미국 최대 25% 관세 시작…뉴욕증시-가상화폐 모두 '타격' / SBS 8뉴스 - YouTube\n",
            "\n",
            "Preprocessing Flow\n",
            "Before: 5251\n",
            "After: 5182\n",
            "\n",
            "RAG Flow\n"
          ]
        },
        {
          "output_type": "stream",
          "name": "stderr",
          "text": [
            "WARNING:langchain_core.vectorstores.base:No relevant docs were retrieved using the relevance score threshold 0.65\n"
          ]
        },
        {
          "output_type": "stream",
          "name": "stdout",
          "text": [
            "KOR Name: 교촌에프앤비(KOSPI)\n",
            "\n",
            "------------\n",
            "\n",
            "Title:  [속보]오락가락 트럼프 관세 피로감…나스닥 2.6%↓\n",
            "\n",
            "Preprocessing Flow\n",
            "Before: 6140\n",
            "After: 6135\n",
            "\n",
            "RAG Flow\n",
            "KOR Name: 현대퓨처넷(KOSPI)\n",
            "KOR Name: 한국단자(KOSPI)\n",
            "KOR Name: 트레이드웹 마켓(NASDAQ)\n",
            "KOR Name: 나스닥(NASDAQ)\n",
            "\n",
            "------------\n",
            "\n",
            "Title:  트럼프 행정부의 관세 정책과 통화 정책: 감세와 관세의 상관 관계\n",
            "\n",
            "Preprocessing Flow\n",
            "Before: 3877\n",
            "After: 3876\n",
            "\n",
            "RAG Flow\n",
            "KOR Name: F&F홀딩스(KOSPI)\n",
            "KOR Name: 트럼프 미디어 & 테크놀로지 그룹(NASDAQ)\n",
            "KOR Name: 인터랙티브 브로커스 그룹(NASDAQ)\n",
            "\n",
            "------------\n",
            "\n",
            "Average reduction by length\n",
            "361\n"
          ]
        }
      ]
    }
  ]
}